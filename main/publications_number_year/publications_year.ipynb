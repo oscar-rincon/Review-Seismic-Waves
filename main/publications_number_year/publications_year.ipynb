{
 "cells": [
  {
   "cell_type": "code",
   "execution_count": 2,
   "metadata": {},
   "outputs": [],
   "source": [
    "import os\n",
    "import sys\n",
    "import numpy as np\n",
    "import matplotlib as mpl\n",
    "import matplotlib.pyplot as plt\n",
    "import pandas as pd\n",
    "from matplotlib.ticker import AutoMinorLocator, MaxNLocator, ScalarFormatter"
   ]
  },
  {
   "cell_type": "code",
   "execution_count": 3,
   "metadata": {},
   "outputs": [],
   "source": [
    "# Configuración del directorio actual y del directorio de utilidades\n",
    "current_dir = os.getcwd()\n",
    "utilities_dir = os.path.join(current_dir, '../../utils')\n",
    "sys.path.insert(0, utilities_dir)\n",
    "from plotting import *  # Importar utilidades de trazado personalizadas"
   ]
  },
  {
   "cell_type": "code",
   "execution_count": 4,
   "metadata": {},
   "outputs": [],
   "source": [
    "# Leer los archivos CSV, especificando que el delimitador es una coma y saltar las primeras líneas\n",
    "df_ml = pd.read_csv('Scopus-10-Analyze-Year-Machine-Learning.csv', skiprows=6, delimiter=',')\n",
    "df_nm = pd.read_csv('Scopus-10-Analyze-Year - Numerical Methods.csv', skiprows=6, delimiter=',')\n",
    "df_nm_ml = pd.read_csv('Scopus-10-Analyze-Year - Numerical Methods and Machine Learning.csv', skiprows=6, delimiter=',')\n",
    "df_waves = pd.read_csv('Scopus-50-Analyze-Year-Waves.csv', skiprows=6, delimiter=',')\n",
    "df_total = pd.read_csv('Scopus-50-Analyze-Year-Total.csv', skiprows=6, delimiter=',')"
   ]
  },
  {
   "cell_type": "code",
   "execution_count": 5,
   "metadata": {},
   "outputs": [],
   "source": [
    "# Extraer los datos de las columnas\n",
    "years_ml = df_ml.iloc[:, 0].tolist()\n",
    "works_ml = df_ml.iloc[:, 1].tolist()\n",
    "years_nm = df_nm.iloc[:, 0].tolist()\n",
    "works_nm = df_nm.iloc[:, 1].tolist()\n",
    "years_nm_ml = df_nm_ml.iloc[:, 0].tolist()\n",
    "works_nm_ml = df_nm_ml.iloc[:, 1].tolist()\n",
    "years_waves = df_waves.iloc[:, 0].tolist()\n",
    "works_waves = df_waves.iloc[:, 1].tolist()\n",
    "years_total = df_total.iloc[:, 0].tolist()\n",
    "works_total = df_total.iloc[:, 1].tolist()"
   ]
  },
  {
   "cell_type": "code",
   "execution_count": 6,
   "metadata": {},
   "outputs": [],
   "source": [
    "# Crear diccionarios de datos\n",
    "data_ml = {\n",
    "    'YEAR': years_ml,\n",
    "    'WORKS': works_ml\n",
    "}\n",
    "\n",
    "data_nm = {\n",
    "    'YEAR': years_nm,\n",
    "    'WORKS': works_nm\n",
    "}\n",
    "\n",
    "data_nm_ml = {\n",
    "    'YEAR': years_nm_ml,\n",
    "    'WORKS': works_nm_ml\n",
    "}\n",
    "\n",
    "data_waves = {\n",
    "    'YEAR': years_waves,\n",
    "    'WORKS': works_waves\n",
    "}\n",
    "\n",
    "data_total = {\n",
    "    'YEAR': years_total,\n",
    "    'WORKS': works_total\n",
    "}\n",
    "\n",
    "# Crear diccionario de datos relativos\n",
    "data_relative_ml = {\n",
    "    'YEAR': data_ml['YEAR'],\n",
    "    'WORKS': np.array(data_ml['WORKS']) / np.array(data_total['WORKS'])\n",
    "}\n",
    "\n",
    "data_relative_nm = {\n",
    "    'YEAR': data_nm['YEAR'],\n",
    "    'WORKS': np.array(data_nm['WORKS']) / np.array(data_total['WORKS'])\n",
    "}\n",
    "\n",
    "\n",
    "data_relative_nm_ml = {\n",
    "    'YEAR': data_nm_ml['YEAR'],\n",
    "    'WORKS': np.array(data_nm_ml['WORKS']) / np.array(data_total['WORKS'])\n",
    "}\n",
    "\n",
    " \n",
    "data_relative_waves = {\n",
    "    'YEAR': data_waves['YEAR'],\n",
    "    'WORKS': np.array(data_waves['WORKS']) / np.array(data_total['WORKS'])\n",
    "}"
   ]
  },
  {
   "cell_type": "code",
   "execution_count": 16,
   "metadata": {},
   "outputs": [
    {
     "data": {
      "image/png": "[encoded data removed]",
      "text/plain": [
       "<Figure size 314.961x255.906 with 1 Axes>"
      ]
     },
     "metadata": {},
     "output_type": "display_data"
    }
   ],
   "source": [
    "# Configuración de la figura\n",
    "color = '#8e8e8eff'\n",
    "\n",
    "width_in_inches = 80 / 25.4\n",
    "height_in_inches = 65 / 25.4\n",
    "plt.figure(figsize=(width_in_inches, height_in_inches))\n",
    "\n",
    "# Trazado de datos relativos como un barplot con un rojo más oscuro\n",
    "plt.bar(data_relative_ml['YEAR'], data_relative_ml['WORKS'], color=color, alpha=1.0, label='Relative')\n",
    "plt.ylabel('Publications', color=color)\n",
    "plt.xlabel('Year', color=color)\n",
    "\n",
    "# Configuración del eje principal\n",
    "ax = plt.gca()\n",
    "ax.xaxis.set_minor_locator(AutoMinorLocator(n=2))\n",
    "ax.yaxis.set_minor_locator(AutoMinorLocator(n=2))\n",
    "ax.yaxis.set_major_locator(MaxNLocator(nbins=5))  # Asegurar 4 marcas principales en el eje y\n",
    "ax.yaxis.set_major_formatter(ScalarFormatter(useMathText=True))\n",
    "ax.ticklabel_format(axis='y', style='sci', scilimits=(0, 0))\n",
    "\n",
    "# Configurar el color de todos los ejes, ticks y labels\n",
    "ax.tick_params(axis='y', colors=color)\n",
    "ax.tick_params(axis='y', which='minor', colors=color)\n",
    "ax.yaxis.label.set_color(color)\n",
    "ax.spines['left'].set_color(color)\n",
    "ax.tick_params(axis='x', colors=color)\n",
    "ax.tick_params(axis='x', which='minor', colors=color)\n",
    "ax.xaxis.label.set_color(color)\n",
    "ax.spines['bottom'].set_color(color)\n",
    "ax.spines['top'].set_color(color)\n",
    "ax.spines['right'].set_color(color)\n",
    "\n",
    "# Configuración de los años seleccionados en el eje x\n",
    "selected_years = [2010, 2013, 2016, 2019, 2022]\n",
    "plt.xticks(selected_years, color=color)\n",
    " \n",
    "# Ajustar el diseño y guardar la figura\n",
    "plt.tight_layout()\n",
    "plt.savefig('publications_ml.pdf')\n",
    "plt.show()"
   ]
  },
  {
   "cell_type": "code",
   "execution_count": 56,
   "metadata": {},
   "outputs": [
    {
     "data": {
      "image/png": "[encoded data removed]",
      "text/plain": [
       "<Figure size 314.961x216.535 with 1 Axes>"
      ]
     },
     "metadata": {},
     "output_type": "display_data"
    }
   ],
   "source": [
    "import matplotlib.pyplot as plt\n",
    "from matplotlib.ticker import AutoMinorLocator, MaxNLocator, ScalarFormatter\n",
    "import numpy as np\n",
    "\n",
    "# Configuración de la figura\n",
    "color = '#3f407bff'\n",
    "color_2 = '#8e8e8eff'  # Blanco\n",
    "edge_color_2 = '#3f407bff'  # Bordes azules\n",
    "\n",
    "width_in_inches = 80 / 25.4\n",
    "height_in_inches = 55 / 25.4\n",
    "plt.figure(figsize=(width_in_inches, height_in_inches))\n",
    "\n",
    "# Ancho de las barras\n",
    "bar_width = 0.4\n",
    "\n",
    "# Posiciones de las barras\n",
    "years = np.array(data_relative_nm['YEAR'])\n",
    "years_offset = years + bar_width\n",
    "\n",
    "# Trazado de datos relativos como un barplot con un rojo más oscuro\n",
    "plt.bar(years, data_relative_nm['WORKS'], width=bar_width, color=color_2, edgecolor='black', linewidth=0.5, alpha=1.0, label=r'SNM $\\&$ MLBM')\n",
    "plt.bar(years_offset, data_relative_nm_ml['WORKS'], width=bar_width, color=color, edgecolor='black', linewidth=0.5, alpha=1.0, label='MLBM')\n",
    "plt.ylabel('Publications', color=color)\n",
    "plt.xlabel('Year', color=color)\n",
    "\n",
    "# Configuración del eje principal\n",
    "ax = plt.gca()\n",
    "ax.xaxis.set_minor_locator(AutoMinorLocator(n=2))\n",
    "ax.yaxis.set_minor_locator(AutoMinorLocator(n=2))\n",
    "ax.yaxis.set_major_locator(MaxNLocator(nbins=5))  # Asegurar 4 marcas principales en el eje y\n",
    "ax.yaxis.set_major_formatter(ScalarFormatter(useMathText=True))\n",
    "ax.ticklabel_format(axis='y', style='sci', scilimits=(0, 0))\n",
    "\n",
    "# Configurar el color de todos los ejes, ticks y labels\n",
    "ax.tick_params(axis='y', colors='black')\n",
    "ax.tick_params(axis='y', which='minor', colors='black')\n",
    "ax.yaxis.label.set_color('black')\n",
    "ax.spines['left'].set_color('black')\n",
    "ax.tick_params(axis='x', colors='black')\n",
    "ax.tick_params(axis='x', which='minor', colors='black')\n",
    "ax.xaxis.label.set_color('black')\n",
    "ax.spines['bottom'].set_color('black')\n",
    "ax.spines['top'].set_color('black')\n",
    "ax.spines['right'].set_color('black')\n",
    "\n",
    "# Configuración de los años seleccionados en el eje x\n",
    "selected_years = np.array([2010, 2013, 2016, 2019, 2022])\n",
    "plt.xticks(selected_years + bar_width / 2, selected_years, color='black')\n",
    "\n",
    "# Incluir la leyenda\n",
    "plt.legend(frameon=False)\n",
    "\n",
    "# Ajustar el diseño y guardar la figura\n",
    "plt.tight_layout()\n",
    "plt.savefig('publications_nm_ml.pdf')\n",
    "plt.show()"
   ]
  },
  {
   "cell_type": "code",
   "execution_count": 55,
   "metadata": {},
   "outputs": [
    {
     "data": {
      "image/png": "[encoded data removed]",
      "text/plain": [
       "<Figure size 314.961x216.535 with 1 Axes>"
      ]
     },
     "metadata": {},
     "output_type": "display_data"
    }
   ],
   "source": [
    "color = '#8e8e8eff'\n",
    "\n",
    "# Configuración de la figura\n",
    "width_in_inches = 80 / 25.4\n",
    "height_in_inches = 55 / 25.4\n",
    "plt.figure(figsize=(width_in_inches, height_in_inches))\n",
    "\n",
    "# Trazado de datos relativos como un barplot con un rojo más oscuro\n",
    "plt.bar(data_relative_waves['YEAR'], data_relative_waves['WORKS'], edgecolor='black', linewidth=0.5, color=color, alpha=1.0, label='Relative')\n",
    "plt.ylabel('Publications', color=color)\n",
    "plt.xlabel('Year', color=color)\n",
    "\n",
    "\n",
    "# Configuración del eje principal\n",
    "ax = plt.gca()\n",
    "ax.xaxis.set_minor_locator(AutoMinorLocator(n=2))\n",
    "ax.yaxis.set_minor_locator(AutoMinorLocator(n=2))\n",
    "ax.yaxis.set_major_locator(MaxNLocator(nbins=5))  # Asegurar 4 marcas principales en el eje y\n",
    "ax.yaxis.set_major_formatter(ScalarFormatter(useMathText=True))\n",
    "ax.ticklabel_format(axis='y', style='sci', scilimits=(0, 0))\n",
    "\n",
    "# Configurar el color de todos los ejes, ticks y labels\n",
    "ax.tick_params(axis='y', colors='black')\n",
    "ax.tick_params(axis='y', which='minor', colors='black')\n",
    "ax.yaxis.label.set_color('black')\n",
    "ax.spines['left'].set_color('black')\n",
    "ax.tick_params(axis='x', colors='black')\n",
    "ax.tick_params(axis='x', which='minor', colors='black')\n",
    "ax.xaxis.label.set_color('black')\n",
    "ax.spines['bottom'].set_color('black')\n",
    "ax.spines['top'].set_color('black')\n",
    "ax.spines['right'].set_color('black')\n",
    "\n",
    "# Configuración de los años seleccionados en el eje x\n",
    "selected_years = [2010, 2013, 2016, 2019, 2022]\n",
    "plt.xticks(selected_years, color='black')\n",
    " \n",
    "# Ajustar el diseño y guardar la figura\n",
    "plt.tight_layout()\n",
    "plt.savefig('publications_waves.pdf')\n",
    "plt.show()"
   ]
  },
  {
   "cell_type": "code",
   "execution_count": null,
   "metadata": {},
   "outputs": [],
   "source": []
  },
  {
   "cell_type": "code",
   "execution_count": null,
   "metadata": {},
   "outputs": [],
   "source": []
  }
 ],
 "metadata": {
  "kernelspec": {
   "display_name": "review-seismic-waves-env",
   "language": "python",
   "name": "python3"
  },
  "language_info": {
   "codemirror_mode": {
    "name": "ipython",
    "version": 3
   },
   "file_extension": ".py",
   "mimetype": "text/x-python",
   "name": "python",
   "nbconvert_exporter": "python",
   "pygments_lexer": "ipython3",
   "version": "3.12.3"
  }
 },
 "nbformat": 4,
 "nbformat_minor": 2
}
